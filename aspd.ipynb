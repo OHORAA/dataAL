{
  "cells": [
    {
      "cell_type": "code",
      "execution_count": null,
      "id": "3a43e299",
      "metadata": {
        "id": "3a43e299"
      },
      "outputs": [],
      "source": [
        "print(1021)"
      ]
    },
    {
      "cell_type": "code",
      "execution_count": null,
      "id": "353e6b8d",
      "metadata": {
        "id": "353e6b8d"
      },
      "outputs": [],
      "source": []
    }
  ],
  "metadata": {
    "language_info": {
      "name": "python"
    },
    "colab": {
      "provenance": []
    }
  },
  "nbformat": 4,
  "nbformat_minor": 5
}